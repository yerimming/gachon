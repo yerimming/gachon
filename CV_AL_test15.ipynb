{
  "nbformat": 4,
  "nbformat_minor": 0,
  "metadata": {
    "colab": {
      "provenance": [],
      "gpuType": "T4",
      "include_colab_link": true
    },
    "kernelspec": {
      "name": "python3",
      "display_name": "Python 3"
    },
    "language_info": {
      "name": "python"
    },
    "accelerator": "GPU"
  },
  "cells": [
    {
      "cell_type": "markdown",
      "metadata": {
        "id": "view-in-github",
        "colab_type": "text"
      },
      "source": [
        "<a href=\"https://colab.research.google.com/github/yerimming/gachon/blob/main/CV_AL_test15.ipynb\" target=\"_parent\"><img src=\"https://colab.research.google.com/assets/colab-badge.svg\" alt=\"Open In Colab\"/></a>"
      ]
    },
    {
      "cell_type": "markdown",
      "source": [
        "1.   optimizer로 RMSGrad 사용\n",
        "2.   lr = 0.001\n",
        "3.  CosineAnnealingLR 스케줄러 사용\n",
        "\n",
        "\n"
      ],
      "metadata": {
        "id": "JBBnibyCbQ_A"
      }
    },
    {
      "cell_type": "code",
      "source": [
        "from google.colab import drive\n",
        "drive.mount('/content/gdrive')"
      ],
      "metadata": {
        "colab": {
          "base_uri": "https://localhost:8080/"
        },
        "id": "xr4ox9es1m_Z",
        "outputId": "b893b598-3e92-41c2-d09a-fabb87cb1516"
      },
      "execution_count": 1,
      "outputs": [
        {
          "output_type": "stream",
          "name": "stdout",
          "text": [
            "Drive already mounted at /content/gdrive; to attempt to forcibly remount, call drive.mount(\"/content/gdrive\", force_remount=True).\n"
          ]
        }
      ]
    },
    {
      "cell_type": "code",
      "source": [
        "!pip uninstall adabelief-pytorch"
      ],
      "metadata": {
        "colab": {
          "base_uri": "https://localhost:8080/"
        },
        "id": "HwLxZE0rjqCc",
        "outputId": "d949c06f-f632-42ef-f3b4-ece7c2f4f30e"
      },
      "execution_count": 9,
      "outputs": [
        {
          "output_type": "stream",
          "name": "stdout",
          "text": [
            "Found existing installation: adabelief-pytorch 0.2.1\n",
            "Uninstalling adabelief-pytorch-0.2.1:\n",
            "  Would remove:\n",
            "    /usr/local/lib/python3.10/dist-packages/adabelief_pytorch-0.2.1.dist-info/*\n",
            "    /usr/local/lib/python3.10/dist-packages/adabelief_pytorch/*\n",
            "Proceed (Y/n)? y\n",
            "  Successfully uninstalled adabelief-pytorch-0.2.1\n"
          ]
        }
      ]
    },
    {
      "cell_type": "code",
      "source": [
        "!pip install adabelief-pytorch"
      ],
      "metadata": {
        "colab": {
          "base_uri": "https://localhost:8080/"
        },
        "id": "7a36Uzf7yL9l",
        "outputId": "36e386a6-c751-46af-f841-0a8be5fc75b4"
      },
      "execution_count": 2,
      "outputs": [
        {
          "output_type": "stream",
          "name": "stdout",
          "text": [
            "Requirement already satisfied: adabelief-pytorch in /usr/local/lib/python3.10/dist-packages (0.2.1)\n",
            "Requirement already satisfied: torch>=0.4.0 in /usr/local/lib/python3.10/dist-packages (from adabelief-pytorch) (2.1.0+cu118)\n",
            "Requirement already satisfied: colorama>=0.4.0 in /usr/local/lib/python3.10/dist-packages (from adabelief-pytorch) (0.4.6)\n",
            "Requirement already satisfied: tabulate>=0.7 in /usr/local/lib/python3.10/dist-packages (from adabelief-pytorch) (0.9.0)\n",
            "Requirement already satisfied: filelock in /usr/local/lib/python3.10/dist-packages (from torch>=0.4.0->adabelief-pytorch) (3.12.4)\n",
            "Requirement already satisfied: typing-extensions in /usr/local/lib/python3.10/dist-packages (from torch>=0.4.0->adabelief-pytorch) (4.5.0)\n",
            "Requirement already satisfied: sympy in /usr/local/lib/python3.10/dist-packages (from torch>=0.4.0->adabelief-pytorch) (1.12)\n",
            "Requirement already satisfied: networkx in /usr/local/lib/python3.10/dist-packages (from torch>=0.4.0->adabelief-pytorch) (3.2)\n",
            "Requirement already satisfied: jinja2 in /usr/local/lib/python3.10/dist-packages (from torch>=0.4.0->adabelief-pytorch) (3.1.2)\n",
            "Requirement already satisfied: fsspec in /usr/local/lib/python3.10/dist-packages (from torch>=0.4.0->adabelief-pytorch) (2023.6.0)\n",
            "Requirement already satisfied: triton==2.1.0 in /usr/local/lib/python3.10/dist-packages (from torch>=0.4.0->adabelief-pytorch) (2.1.0)\n",
            "Requirement already satisfied: MarkupSafe>=2.0 in /usr/local/lib/python3.10/dist-packages (from jinja2->torch>=0.4.0->adabelief-pytorch) (2.1.3)\n",
            "Requirement already satisfied: mpmath>=0.19 in /usr/local/lib/python3.10/dist-packages (from sympy->torch>=0.4.0->adabelief-pytorch) (1.3.0)\n"
          ]
        }
      ]
    },
    {
      "cell_type": "code",
      "execution_count": 3,
      "metadata": {
        "id": "qOc0tT3-nv73",
        "colab": {
          "base_uri": "https://localhost:8080/"
        },
        "outputId": "1e5a3f98-1814-4a89-d8ec-619158fbf9a5"
      },
      "outputs": [
        {
          "output_type": "stream",
          "name": "stdout",
          "text": [
            "cuda\n"
          ]
        }
      ],
      "source": [
        "import os\n",
        "import time\n",
        "\n",
        "import torch\n",
        "import torchvision.transforms as transforms\n",
        "import torchvision.models as models\n",
        "from torch.utils.data import Dataset, DataLoader\n",
        "\n",
        "import torch.optim as optim\n",
        "import torch.nn as nn\n",
        "import torch.nn.functional as F\n",
        "\n",
        "from adabelief_pytorch import AdaBelief\n",
        "\n",
        "# 스케줄러 사용\n",
        "from torch.optim.lr_scheduler import CosineAnnealingLR\n",
        "\n",
        "import re\n",
        "\n",
        "from PIL import Image\n",
        "\n",
        "### GPU Setting ###\n",
        "USE_CUDA = torch.cuda.is_available()\n",
        "DEVICE = torch.device(\"cuda\" if USE_CUDA else \"cpu\")\n",
        "print(DEVICE)"
      ]
    },
    {
      "cell_type": "code",
      "source": [
        "### Custom Dataset ###\n",
        "class CUB2011(Dataset):\n",
        "  def __init__(self, transform, mode='train'):\n",
        "    self.transform = transform\n",
        "    self.mode = mode\n",
        "\n",
        "    if self.mode == 'train':\n",
        "      self.image_folder = os.listdir('/content/gdrive/MyDrive/CUB_200_2011_repackage_class50/CUB_200_2011_repackage_class50/datasets/train')\n",
        "    elif self.mode == 'valid':\n",
        "      self.image_folder = os.listdir('/content/gdrive/MyDrive/CUB_200_2011_repackage_class50/CUB_200_2011_repackage_class50/datasets/valid')\n",
        "    elif self.mode == 'test':\n",
        "      self.image_folder = os.listdir('/content/gdrive/MyDrive/CUB_200_2011_repackage_class50/CUB_200_2011_repackage_class50/datasets/test')\n",
        "\n",
        "  def __len__(self):\n",
        "    return len(self.image_folder)\n",
        "\n",
        "  def __getitem__(self, idx):\n",
        "    img_path = self.image_folder[idx]\n",
        "    img = Image.open(os.path.join('/content/gdrive/MyDrive/CUB_200_2011_repackage_class50/CUB_200_2011_repackage_class50/datasets', self.mode, img_path)).convert('RGB')\n",
        "    img = self.transform(img)\n",
        "    label = img_path.split('_')[-1].split('.')[0]\n",
        "    label = re.sub(r'\\([^)]*\\)', '', label)\n",
        "    label = int(label)\n",
        "    return (img, label)"
      ],
      "metadata": {
        "id": "KaFgjkFp8tzI"
      },
      "execution_count": 4,
      "outputs": []
    },
    {
      "cell_type": "code",
      "source": [
        "### Data Preprocessing ###\n",
        "\n",
        "transforms_train = transforms.Compose([transforms.Resize((448,448)),\n",
        "                                       transforms.ToTensor()])\n",
        "transforms_valtest = transforms.Compose([transforms.Resize((448,448)),\n",
        "                                         transforms.ToTensor()])\n",
        "\n",
        "BATCH_SIZE = 32\n",
        "train_set = CUB2011(mode='train',\n",
        "                    transform=transforms_train)\n",
        "# transforms_train을 transforms_valtest로 변경\n",
        "val_set = CUB2011(mode='valid',\n",
        "                  transform=transforms_valtest)\n",
        "test_set = CUB2011(mode='test',\n",
        "                  transform=transforms_valtest)\n",
        "\n",
        "print('Num of each dataset: ',len(train_set),len(val_set),len(test_set))\n",
        "\n",
        "train_loader = DataLoader(train_set,batch_size=BATCH_SIZE,shuffle=True)\n",
        "val_loader = DataLoader(val_set,batch_size=BATCH_SIZE,shuffle=False)\n",
        "test_loader = DataLoader(test_set,batch_size=BATCH_SIZE,shuffle=False)\n",
        "\n",
        "print(\"Loaded dataloader\")"
      ],
      "metadata": {
        "colab": {
          "base_uri": "https://localhost:8080/"
        },
        "id": "38vx5jj22neg",
        "outputId": "c5059cd9-223f-4b7e-ccd7-ac9e167975db"
      },
      "execution_count": 5,
      "outputs": [
        {
          "output_type": "stream",
          "name": "stdout",
          "text": [
            "Num of each dataset:  2362 296 298\n",
            "Loaded dataloader\n"
          ]
        }
      ]
    },
    {
      "cell_type": "code",
      "source": [
        "!pip install --upgrade adabelief-pytorch"
      ],
      "metadata": {
        "colab": {
          "base_uri": "https://localhost:8080/"
        },
        "id": "qBKFZavKjD4A",
        "outputId": "1b87dabb-2c2d-4c2b-ec29-429ff0fbee48"
      },
      "execution_count": 7,
      "outputs": [
        {
          "output_type": "stream",
          "name": "stdout",
          "text": [
            "Requirement already satisfied: adabelief-pytorch in /usr/local/lib/python3.10/dist-packages (0.2.1)\n",
            "Requirement already satisfied: torch>=0.4.0 in /usr/local/lib/python3.10/dist-packages (from adabelief-pytorch) (2.1.0+cu118)\n",
            "Requirement already satisfied: colorama>=0.4.0 in /usr/local/lib/python3.10/dist-packages (from adabelief-pytorch) (0.4.6)\n",
            "Requirement already satisfied: tabulate>=0.7 in /usr/local/lib/python3.10/dist-packages (from adabelief-pytorch) (0.9.0)\n",
            "Requirement already satisfied: filelock in /usr/local/lib/python3.10/dist-packages (from torch>=0.4.0->adabelief-pytorch) (3.12.4)\n",
            "Requirement already satisfied: typing-extensions in /usr/local/lib/python3.10/dist-packages (from torch>=0.4.0->adabelief-pytorch) (4.5.0)\n",
            "Requirement already satisfied: sympy in /usr/local/lib/python3.10/dist-packages (from torch>=0.4.0->adabelief-pytorch) (1.12)\n",
            "Requirement already satisfied: networkx in /usr/local/lib/python3.10/dist-packages (from torch>=0.4.0->adabelief-pytorch) (3.2)\n",
            "Requirement already satisfied: jinja2 in /usr/local/lib/python3.10/dist-packages (from torch>=0.4.0->adabelief-pytorch) (3.1.2)\n",
            "Requirement already satisfied: fsspec in /usr/local/lib/python3.10/dist-packages (from torch>=0.4.0->adabelief-pytorch) (2023.6.0)\n",
            "Requirement already satisfied: triton==2.1.0 in /usr/local/lib/python3.10/dist-packages (from torch>=0.4.0->adabelief-pytorch) (2.1.0)\n",
            "Requirement already satisfied: MarkupSafe>=2.0 in /usr/local/lib/python3.10/dist-packages (from jinja2->torch>=0.4.0->adabelief-pytorch) (2.1.3)\n",
            "Requirement already satisfied: mpmath>=0.19 in /usr/local/lib/python3.10/dist-packages (from sympy->torch>=0.4.0->adabelief-pytorch) (1.3.0)\n"
          ]
        }
      ]
    },
    {
      "cell_type": "code",
      "source": [
        "### Model / Optimizer ###\n",
        "EPOCH = 30\n",
        "lr = 0.001\n",
        "\n",
        "model = models.resnet18(pretrained=True)\n",
        "\n",
        "### Tranfer Learning ###\n",
        "num_features = model.fc.in_features\n",
        "model.fc = nn.Linear(num_features,50)\n",
        "model.to(DEVICE)\n",
        "\n",
        "optimizer = AdaBelief(model.parameters(), lr=lr, betas=(0.9, 0.999), eps=1e-16, weight_decouple=True, rectify=True)\n",
        "\n",
        "# 코사인 앤니얼링 스케줄러 초기화\n",
        "scheduler = CosineAnnealingLR(optimizer, T_max=10, eta_min=0.001)\n",
        "\n",
        "print(\"Created a learning model and optimizer\")"
      ],
      "metadata": {
        "colab": {
          "base_uri": "https://localhost:8080/"
        },
        "id": "gpS0gJzkii_-",
        "outputId": "3787e884-3e76-4e2d-f962-78dde45c12c3"
      },
      "execution_count": 11,
      "outputs": [
        {
          "output_type": "stream",
          "name": "stdout",
          "text": [
            "\u001b[31mPlease check your arguments if you have upgraded adabelief-pytorch from version 0.0.5.\n",
            "\u001b[31mModifications to default arguments:\n",
            "\u001b[31m                           eps  weight_decouple    rectify\n",
            "-----------------------  -----  -----------------  ---------\n",
            "adabelief-pytorch=0.0.5  1e-08  False              False\n",
            ">=0.1.0 (Current 0.2.0)  1e-16  True               True\n",
            "\u001b[34mSGD better than Adam (e.g. CNN for Image Classification)    Adam better than SGD (e.g. Transformer, GAN)\n",
            "----------------------------------------------------------  ----------------------------------------------\n",
            "Recommended eps = 1e-8                                      Recommended eps = 1e-16\n",
            "\u001b[34mFor a complete table of recommended hyperparameters, see\n",
            "\u001b[34mhttps://github.com/juntang-zhuang/Adabelief-Optimizer\n",
            "\u001b[32mYou can disable the log message by setting \"print_change_log = False\", though it is recommended to keep as a reminder.\n",
            "\u001b[0m\n",
            "Weight decoupling enabled in AdaBelief\n",
            "Rectification enabled in AdaBelief\n",
            "Created a learning model and optimizer\n"
          ]
        }
      ]
    },
    {
      "cell_type": "code",
      "source": [
        "### Train/Evaluation ###\n",
        "def train(model,train_loader,optimizer,epoch):\n",
        "  model.train()\n",
        "  for i,(image,target) in enumerate(train_loader):\n",
        "    image,target = image.to(DEVICE),target.to(DEVICE)\n",
        "    output = model(image)\n",
        "    optimizer.zero_grad()\n",
        "    # loss func을 어떤 것을 사용할 것인지?\n",
        "    train_loss = F.cross_entropy(output,target).to(DEVICE)\n",
        "\n",
        "    train_loss.backward()\n",
        "    optimizer.step()\n",
        "\n",
        "    # 스케줄러 업데이트\n",
        "    scheduler.step()\n",
        "\n",
        "    if i%10 ==0:\n",
        "      print(\n",
        "          f'Train Epoch: {epoch} [{i}/{len(train_loader)}]\\tloss: {train_loss.item():6f}')\n",
        "\n",
        "  return train_loss\n",
        "\n",
        "def evaluate(model,val_loader):\n",
        "  model.eval()\n",
        "  eval_loss = 0\n",
        "  correct = 0\n",
        "  with torch.no_grad():\n",
        "    for i,(image,target) in enumerate(val_loader):\n",
        "      image,target = image.to(DEVICE),target.to(DEVICE)\n",
        "      output = model(image)\n",
        "\n",
        "      eval_loss += F.cross_entropy(output,target, reduction='sum').item()\n",
        "      pred = output.max(1,keepdim=True)[1]\n",
        "      correct += pred.eq(target.view_as(pred)).sum().item()\n",
        "\n",
        "  eval_loss /= len(val_loader.dataset)\n",
        "  eval_accuracy = 100*correct / len(val_loader.dataset)\n",
        "  return eval_loss,eval_accuracy"
      ],
      "metadata": {
        "id": "apDhVk6C2r7R"
      },
      "execution_count": 12,
      "outputs": []
    },
    {
      "cell_type": "code",
      "source": [
        "### Main ###\n",
        "start = time.time()\n",
        "best = 0\n",
        "for epoch in range(EPOCH):\n",
        "  train_loss = train(model,train_loader,optimizer,epoch)\n",
        "  val_loss,val_accuracy = evaluate(model,val_loader)\n",
        "\n",
        "  # Save best model\n",
        "  if val_accuracy > best:\n",
        "    best = val_accuracy\n",
        "    torch.save(model.state_dict(),\"./best_model.pth\")\n",
        "\n",
        "  print(f\"[{epoch}]Validation Loss: {val_loss:.4f},Accuracy: {val_accuracy:.4f}%\")\n",
        "\n",
        "# Test result\n",
        "test_loss,test_accuracy = evaluate(model,test_loader)\n",
        "print(f'[FINAL] Test Loss: {test_loss:.4f},Accuracy: {test_accuracy:.4f}%')\n",
        "\n",
        "end = time.time()\n",
        "elasped_time = end - start\n",
        "\n",
        "print(\"Best Accuracy: \",best)\n",
        "print(\n",
        "    f\"Elasped Time: {int(elasped_time/3600)}h, {int(elasped_time/60)}m, {int(elasped_time%60)}s\")\n",
        "print(\n",
        "    f\"time: {int(elasped_time/3600)}h, {int(elasped_time/60)}m, {int(elasped_time%60)}s\")"
      ],
      "metadata": {
        "colab": {
          "base_uri": "https://localhost:8080/"
        },
        "id": "VNhSTX452wyd",
        "outputId": "19092e8a-420a-43cf-f813-0a205ae43a2a"
      },
      "execution_count": 13,
      "outputs": [
        {
          "output_type": "stream",
          "name": "stdout",
          "text": [
            "Train Epoch: 0 [0/74]\tloss: 3.978997\n",
            "Train Epoch: 0 [10/74]\tloss: 3.923540\n",
            "Train Epoch: 0 [20/74]\tloss: 3.749312\n",
            "Train Epoch: 0 [30/74]\tloss: 3.431151\n",
            "Train Epoch: 0 [40/74]\tloss: 3.037728\n",
            "Train Epoch: 0 [50/74]\tloss: 2.336459\n",
            "Train Epoch: 0 [60/74]\tloss: 2.410351\n",
            "Train Epoch: 0 [70/74]\tloss: 2.032878\n",
            "[0]Validation Loss: 1.7810,Accuracy: 70.2703%\n",
            "Train Epoch: 1 [0/74]\tloss: 1.683001\n",
            "Train Epoch: 1 [10/74]\tloss: 1.354242\n",
            "Train Epoch: 1 [20/74]\tloss: 1.322171\n",
            "Train Epoch: 1 [30/74]\tloss: 1.144216\n",
            "Train Epoch: 1 [40/74]\tloss: 1.064530\n",
            "Train Epoch: 1 [50/74]\tloss: 0.853999\n",
            "Train Epoch: 1 [60/74]\tloss: 0.993312\n",
            "Train Epoch: 1 [70/74]\tloss: 0.872772\n",
            "[1]Validation Loss: 0.8671,Accuracy: 81.0811%\n",
            "Train Epoch: 2 [0/74]\tloss: 0.553997\n",
            "Train Epoch: 2 [10/74]\tloss: 0.519001\n",
            "Train Epoch: 2 [20/74]\tloss: 0.462329\n",
            "Train Epoch: 2 [30/74]\tloss: 0.395640\n",
            "Train Epoch: 2 [40/74]\tloss: 0.309551\n",
            "Train Epoch: 2 [50/74]\tloss: 0.335176\n",
            "Train Epoch: 2 [60/74]\tloss: 0.434636\n",
            "Train Epoch: 2 [70/74]\tloss: 0.337136\n",
            "[2]Validation Loss: 1.1490,Accuracy: 75.0000%\n",
            "Train Epoch: 3 [0/74]\tloss: 0.161652\n",
            "Train Epoch: 3 [10/74]\tloss: 0.139846\n",
            "Train Epoch: 3 [20/74]\tloss: 0.175449\n",
            "Train Epoch: 3 [30/74]\tloss: 0.116437\n",
            "Train Epoch: 3 [40/74]\tloss: 0.074327\n",
            "Train Epoch: 3 [50/74]\tloss: 0.094910\n",
            "Train Epoch: 3 [60/74]\tloss: 0.119779\n",
            "Train Epoch: 3 [70/74]\tloss: 0.057313\n",
            "[3]Validation Loss: 0.8144,Accuracy: 85.1351%\n",
            "Train Epoch: 4 [0/74]\tloss: 0.071377\n",
            "Train Epoch: 4 [10/74]\tloss: 0.069280\n",
            "Train Epoch: 4 [20/74]\tloss: 0.051079\n",
            "Train Epoch: 4 [30/74]\tloss: 0.031562\n",
            "Train Epoch: 4 [40/74]\tloss: 0.054599\n",
            "Train Epoch: 4 [50/74]\tloss: 0.032452\n",
            "Train Epoch: 4 [60/74]\tloss: 0.029124\n",
            "Train Epoch: 4 [70/74]\tloss: 0.025388\n",
            "[4]Validation Loss: 0.5370,Accuracy: 87.8378%\n",
            "Train Epoch: 5 [0/74]\tloss: 0.015196\n",
            "Train Epoch: 5 [10/74]\tloss: 0.021013\n",
            "Train Epoch: 5 [20/74]\tloss: 0.026142\n",
            "Train Epoch: 5 [30/74]\tloss: 0.021534\n",
            "Train Epoch: 5 [40/74]\tloss: 0.019528\n",
            "Train Epoch: 5 [50/74]\tloss: 0.017686\n",
            "Train Epoch: 5 [60/74]\tloss: 0.021172\n",
            "Train Epoch: 5 [70/74]\tloss: 0.015483\n",
            "[5]Validation Loss: 0.4017,Accuracy: 91.5541%\n",
            "Train Epoch: 6 [0/74]\tloss: 0.009626\n",
            "Train Epoch: 6 [10/74]\tloss: 0.016578\n",
            "Train Epoch: 6 [20/74]\tloss: 0.010028\n",
            "Train Epoch: 6 [30/74]\tloss: 0.010409\n",
            "Train Epoch: 6 [40/74]\tloss: 0.006158\n",
            "Train Epoch: 6 [50/74]\tloss: 0.011851\n",
            "Train Epoch: 6 [60/74]\tloss: 0.006971\n",
            "Train Epoch: 6 [70/74]\tloss: 0.007147\n",
            "[6]Validation Loss: 0.3944,Accuracy: 92.2297%\n",
            "Train Epoch: 7 [0/74]\tloss: 0.009072\n",
            "Train Epoch: 7 [10/74]\tloss: 0.005483\n",
            "Train Epoch: 7 [20/74]\tloss: 0.008078\n",
            "Train Epoch: 7 [30/74]\tloss: 0.005786\n",
            "Train Epoch: 7 [40/74]\tloss: 0.005939\n",
            "Train Epoch: 7 [50/74]\tloss: 0.007355\n",
            "Train Epoch: 7 [60/74]\tloss: 0.003650\n",
            "Train Epoch: 7 [70/74]\tloss: 0.007927\n",
            "[7]Validation Loss: 0.3944,Accuracy: 91.5541%\n",
            "Train Epoch: 8 [0/74]\tloss: 0.004163\n",
            "Train Epoch: 8 [10/74]\tloss: 0.004258\n",
            "Train Epoch: 8 [20/74]\tloss: 0.006024\n",
            "Train Epoch: 8 [30/74]\tloss: 0.003028\n",
            "Train Epoch: 8 [40/74]\tloss: 0.002763\n",
            "Train Epoch: 8 [50/74]\tloss: 0.003668\n",
            "Train Epoch: 8 [60/74]\tloss: 0.003657\n",
            "Train Epoch: 8 [70/74]\tloss: 0.005106\n",
            "[8]Validation Loss: 0.3821,Accuracy: 92.5676%\n",
            "Train Epoch: 9 [0/74]\tloss: 0.002653\n",
            "Train Epoch: 9 [10/74]\tloss: 0.003883\n",
            "Train Epoch: 9 [20/74]\tloss: 0.003208\n",
            "Train Epoch: 9 [30/74]\tloss: 0.002525\n",
            "Train Epoch: 9 [40/74]\tloss: 0.002831\n",
            "Train Epoch: 9 [50/74]\tloss: 0.002854\n",
            "Train Epoch: 9 [60/74]\tloss: 0.002273\n",
            "Train Epoch: 9 [70/74]\tloss: 0.002730\n",
            "[9]Validation Loss: 0.3801,Accuracy: 92.5676%\n",
            "Train Epoch: 10 [0/74]\tloss: 0.002698\n",
            "Train Epoch: 10 [10/74]\tloss: 0.002362\n",
            "Train Epoch: 10 [20/74]\tloss: 0.003190\n",
            "Train Epoch: 10 [30/74]\tloss: 0.002661\n",
            "Train Epoch: 10 [40/74]\tloss: 0.002208\n",
            "Train Epoch: 10 [50/74]\tloss: 0.002634\n",
            "Train Epoch: 10 [60/74]\tloss: 0.002153\n",
            "Train Epoch: 10 [70/74]\tloss: 0.002035\n",
            "[10]Validation Loss: 0.3737,Accuracy: 92.5676%\n",
            "Train Epoch: 11 [0/74]\tloss: 0.001785\n",
            "Train Epoch: 11 [10/74]\tloss: 0.001626\n",
            "Train Epoch: 11 [20/74]\tloss: 0.002074\n",
            "Train Epoch: 11 [30/74]\tloss: 0.001785\n",
            "Train Epoch: 11 [40/74]\tloss: 0.002666\n",
            "Train Epoch: 11 [50/74]\tloss: 0.002778\n",
            "Train Epoch: 11 [60/74]\tloss: 0.003333\n",
            "Train Epoch: 11 [70/74]\tloss: 0.002632\n",
            "[11]Validation Loss: 0.3850,Accuracy: 91.5541%\n",
            "Train Epoch: 12 [0/74]\tloss: 0.001273\n",
            "Train Epoch: 12 [10/74]\tloss: 0.002555\n",
            "Train Epoch: 12 [20/74]\tloss: 0.002407\n",
            "Train Epoch: 12 [30/74]\tloss: 0.002666\n",
            "Train Epoch: 12 [40/74]\tloss: 0.001540\n",
            "Train Epoch: 12 [50/74]\tloss: 0.002434\n",
            "Train Epoch: 12 [60/74]\tloss: 0.001780\n",
            "Train Epoch: 12 [70/74]\tloss: 0.002193\n",
            "[12]Validation Loss: 0.3779,Accuracy: 92.2297%\n",
            "Train Epoch: 13 [0/74]\tloss: 0.001323\n",
            "Train Epoch: 13 [10/74]\tloss: 0.001936\n",
            "Train Epoch: 13 [20/74]\tloss: 0.001929\n",
            "Train Epoch: 13 [30/74]\tloss: 0.003082\n",
            "Train Epoch: 13 [40/74]\tloss: 0.001516\n",
            "Train Epoch: 13 [50/74]\tloss: 0.001681\n",
            "Train Epoch: 13 [60/74]\tloss: 0.001296\n",
            "Train Epoch: 13 [70/74]\tloss: 0.001968\n",
            "[13]Validation Loss: 0.3644,Accuracy: 92.5676%\n",
            "Train Epoch: 14 [0/74]\tloss: 0.001460\n",
            "Train Epoch: 14 [10/74]\tloss: 0.001427\n",
            "Train Epoch: 14 [20/74]\tloss: 0.001292\n",
            "Train Epoch: 14 [30/74]\tloss: 0.000976\n",
            "Train Epoch: 14 [40/74]\tloss: 0.001244\n",
            "Train Epoch: 14 [50/74]\tloss: 0.001185\n",
            "Train Epoch: 14 [60/74]\tloss: 0.001327\n",
            "Train Epoch: 14 [70/74]\tloss: 0.000914\n",
            "[14]Validation Loss: 0.3758,Accuracy: 91.5541%\n",
            "Train Epoch: 15 [0/74]\tloss: 0.001118\n",
            "Train Epoch: 15 [10/74]\tloss: 0.001210\n",
            "Train Epoch: 15 [20/74]\tloss: 0.001155\n",
            "Train Epoch: 15 [30/74]\tloss: 0.001022\n",
            "Train Epoch: 15 [40/74]\tloss: 0.001643\n",
            "Train Epoch: 15 [50/74]\tloss: 0.001536\n",
            "Train Epoch: 15 [60/74]\tloss: 0.002004\n",
            "Train Epoch: 15 [70/74]\tloss: 0.001114\n",
            "[15]Validation Loss: 0.3672,Accuracy: 91.8919%\n",
            "Train Epoch: 16 [0/74]\tloss: 0.000878\n",
            "Train Epoch: 16 [10/74]\tloss: 0.000908\n",
            "Train Epoch: 16 [20/74]\tloss: 0.000703\n",
            "Train Epoch: 16 [30/74]\tloss: 0.001038\n",
            "Train Epoch: 16 [40/74]\tloss: 0.001221\n",
            "Train Epoch: 16 [50/74]\tloss: 0.002906\n",
            "Train Epoch: 16 [60/74]\tloss: 0.000940\n",
            "Train Epoch: 16 [70/74]\tloss: 0.001010\n",
            "[16]Validation Loss: 0.3626,Accuracy: 90.5405%\n",
            "Train Epoch: 17 [0/74]\tloss: 0.002425\n",
            "Train Epoch: 17 [10/74]\tloss: 0.000775\n",
            "Train Epoch: 17 [20/74]\tloss: 0.001136\n",
            "Train Epoch: 17 [30/74]\tloss: 0.000901\n",
            "Train Epoch: 17 [40/74]\tloss: 0.000922\n",
            "Train Epoch: 17 [50/74]\tloss: 0.000830\n",
            "Train Epoch: 17 [60/74]\tloss: 0.003176\n",
            "Train Epoch: 17 [70/74]\tloss: 0.000910\n",
            "[17]Validation Loss: 0.3795,Accuracy: 90.5405%\n",
            "Train Epoch: 18 [0/74]\tloss: 0.000868\n",
            "Train Epoch: 18 [10/74]\tloss: 0.000711\n",
            "Train Epoch: 18 [20/74]\tloss: 0.001301\n",
            "Train Epoch: 18 [30/74]\tloss: 0.000974\n",
            "Train Epoch: 18 [40/74]\tloss: 0.001164\n",
            "Train Epoch: 18 [50/74]\tloss: 0.000987\n",
            "Train Epoch: 18 [60/74]\tloss: 0.000588\n",
            "Train Epoch: 18 [70/74]\tloss: 0.000489\n",
            "[18]Validation Loss: 0.3581,Accuracy: 91.5541%\n",
            "Train Epoch: 19 [0/74]\tloss: 0.000666\n",
            "Train Epoch: 19 [10/74]\tloss: 0.000939\n",
            "Train Epoch: 19 [20/74]\tloss: 0.000866\n",
            "Train Epoch: 19 [30/74]\tloss: 0.000806\n",
            "Train Epoch: 19 [40/74]\tloss: 0.000810\n",
            "Train Epoch: 19 [50/74]\tloss: 0.000537\n",
            "Train Epoch: 19 [60/74]\tloss: 0.000589\n",
            "Train Epoch: 19 [70/74]\tloss: 0.000431\n",
            "[19]Validation Loss: 0.3674,Accuracy: 90.8784%\n",
            "Train Epoch: 20 [0/74]\tloss: 0.000800\n",
            "Train Epoch: 20 [10/74]\tloss: 0.001122\n",
            "Train Epoch: 20 [20/74]\tloss: 0.000538\n",
            "Train Epoch: 20 [30/74]\tloss: 0.000759\n",
            "Train Epoch: 20 [40/74]\tloss: 0.000617\n",
            "Train Epoch: 20 [50/74]\tloss: 0.000469\n",
            "Train Epoch: 20 [60/74]\tloss: 0.000794\n",
            "Train Epoch: 20 [70/74]\tloss: 0.000640\n",
            "[20]Validation Loss: 0.3676,Accuracy: 91.5541%\n",
            "Train Epoch: 21 [0/74]\tloss: 0.000484\n",
            "Train Epoch: 21 [10/74]\tloss: 0.000595\n",
            "Train Epoch: 21 [20/74]\tloss: 0.000536\n",
            "Train Epoch: 21 [30/74]\tloss: 0.001362\n",
            "Train Epoch: 21 [40/74]\tloss: 0.000700\n",
            "Train Epoch: 21 [50/74]\tloss: 0.000680\n",
            "Train Epoch: 21 [60/74]\tloss: 0.000337\n",
            "Train Epoch: 21 [70/74]\tloss: 0.000632\n",
            "[21]Validation Loss: 0.3906,Accuracy: 90.8784%\n",
            "Train Epoch: 22 [0/74]\tloss: 0.000381\n",
            "Train Epoch: 22 [10/74]\tloss: 0.000411\n",
            "Train Epoch: 22 [20/74]\tloss: 0.000565\n",
            "Train Epoch: 22 [30/74]\tloss: 0.000899\n",
            "Train Epoch: 22 [40/74]\tloss: 0.000382\n",
            "Train Epoch: 22 [50/74]\tloss: 0.000317\n",
            "Train Epoch: 22 [60/74]\tloss: 0.000810\n",
            "Train Epoch: 22 [70/74]\tloss: 0.000479\n",
            "[22]Validation Loss: 0.3658,Accuracy: 91.2162%\n",
            "Train Epoch: 23 [0/74]\tloss: 0.000523\n",
            "Train Epoch: 23 [10/74]\tloss: 0.000366\n",
            "Train Epoch: 23 [20/74]\tloss: 0.000557\n",
            "Train Epoch: 23 [30/74]\tloss: 0.000327\n",
            "Train Epoch: 23 [40/74]\tloss: 0.000825\n",
            "Train Epoch: 23 [50/74]\tloss: 0.000502\n",
            "Train Epoch: 23 [60/74]\tloss: 0.000214\n",
            "Train Epoch: 23 [70/74]\tloss: 0.000327\n",
            "[23]Validation Loss: 0.3662,Accuracy: 91.8919%\n",
            "Train Epoch: 24 [0/74]\tloss: 0.000449\n",
            "Train Epoch: 24 [10/74]\tloss: 0.000420\n",
            "Train Epoch: 24 [20/74]\tloss: 0.000683\n",
            "Train Epoch: 24 [30/74]\tloss: 0.000470\n",
            "Train Epoch: 24 [40/74]\tloss: 0.000461\n",
            "Train Epoch: 24 [50/74]\tloss: 0.000377\n",
            "Train Epoch: 24 [60/74]\tloss: 0.000348\n",
            "Train Epoch: 24 [70/74]\tloss: 0.000734\n",
            "[24]Validation Loss: 0.3670,Accuracy: 91.2162%\n",
            "Train Epoch: 25 [0/74]\tloss: 0.000691\n",
            "Train Epoch: 25 [10/74]\tloss: 0.000577\n",
            "Train Epoch: 25 [20/74]\tloss: 0.000387\n",
            "Train Epoch: 25 [30/74]\tloss: 0.000220\n",
            "Train Epoch: 25 [40/74]\tloss: 0.000266\n",
            "Train Epoch: 25 [50/74]\tloss: 0.000309\n",
            "Train Epoch: 25 [60/74]\tloss: 0.000532\n",
            "Train Epoch: 25 [70/74]\tloss: 0.000834\n",
            "[25]Validation Loss: 0.3526,Accuracy: 91.5541%\n",
            "Train Epoch: 26 [0/74]\tloss: 0.000555\n",
            "Train Epoch: 26 [10/74]\tloss: 0.000303\n",
            "Train Epoch: 26 [20/74]\tloss: 0.000246\n",
            "Train Epoch: 26 [30/74]\tloss: 0.000510\n",
            "Train Epoch: 26 [40/74]\tloss: 0.000463\n",
            "Train Epoch: 26 [50/74]\tloss: 0.000251\n",
            "Train Epoch: 26 [60/74]\tloss: 0.000256\n",
            "Train Epoch: 26 [70/74]\tloss: 0.000438\n",
            "[26]Validation Loss: 0.3594,Accuracy: 91.8919%\n",
            "Train Epoch: 27 [0/74]\tloss: 0.000331\n",
            "Train Epoch: 27 [10/74]\tloss: 0.000240\n",
            "Train Epoch: 27 [20/74]\tloss: 0.000271\n",
            "Train Epoch: 27 [30/74]\tloss: 0.000282\n",
            "Train Epoch: 27 [40/74]\tloss: 0.000360\n",
            "Train Epoch: 27 [50/74]\tloss: 0.000391\n",
            "Train Epoch: 27 [60/74]\tloss: 0.000787\n",
            "Train Epoch: 27 [70/74]\tloss: 0.000394\n",
            "[27]Validation Loss: 0.3548,Accuracy: 91.8919%\n",
            "Train Epoch: 28 [0/74]\tloss: 0.000328\n",
            "Train Epoch: 28 [10/74]\tloss: 0.000345\n",
            "Train Epoch: 28 [20/74]\tloss: 0.000220\n",
            "Train Epoch: 28 [30/74]\tloss: 0.000418\n",
            "Train Epoch: 28 [40/74]\tloss: 0.000382\n",
            "Train Epoch: 28 [50/74]\tloss: 0.000207\n",
            "Train Epoch: 28 [60/74]\tloss: 0.000451\n",
            "Train Epoch: 28 [70/74]\tloss: 0.000319\n",
            "[28]Validation Loss: 0.4745,Accuracy: 87.8378%\n",
            "Train Epoch: 29 [0/74]\tloss: 0.000510\n",
            "Train Epoch: 29 [10/74]\tloss: 0.000498\n",
            "Train Epoch: 29 [20/74]\tloss: 0.000473\n",
            "Train Epoch: 29 [30/74]\tloss: 0.000218\n",
            "Train Epoch: 29 [40/74]\tloss: 0.000278\n",
            "Train Epoch: 29 [50/74]\tloss: 0.000395\n",
            "Train Epoch: 29 [60/74]\tloss: 0.000209\n",
            "Train Epoch: 29 [70/74]\tloss: 0.000292\n",
            "[29]Validation Loss: 0.3490,Accuracy: 92.5676%\n",
            "[FINAL] Test Loss: 0.3236,Accuracy: 93.6242%\n",
            "Best Accuracy:  92.56756756756756\n",
            "Elasped Time: 0h, 20m, 0s\n",
            "time: 0h, 20m, 0s\n"
          ]
        }
      ]
    }
  ]
}